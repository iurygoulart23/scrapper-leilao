{
 "cells": [
  {
   "cell_type": "markdown",
   "source": [
    "## Scrapper de Leilões de carros\n",
    "### Coisas importantes:\n",
    "1. Modelo do carro\n",
    "2. Ano do carro\n",
    "3. Sinistro\n",
    "4. Quilometragem\n",
    "5. Data do leilão\n",
    "6. Link para o carro\n",
    "\n",
    "### Segunda etapa\n",
    "1. Pelo link pegar o preco do maior lance\n",
    "2. incremento min"
   ],
   "metadata": {
    "collapsed": false
   }
  },
  {
   "cell_type": "markdown",
   "source": [
    "Entra no link, pega todas informações de cada carro\n",
    "passa pra proxima página, até a ultima\n",
    "se achar algum que bate com o nome colocado de entrada\n",
    "ele separa as informações e envia via WhatsApp"
   ],
   "metadata": {
    "collapsed": false
   }
  },
  {
   "cell_type": "markdown",
   "source": [],
   "metadata": {
    "collapsed": false
   }
  },
  {
   "cell_type": "code",
   "execution_count": 42,
   "metadata": {
    "collapsed": true
   },
   "outputs": [],
   "source": [
    "#-- IMPORT LIBS\n",
    "from re import search\n",
    "from selenium import webdriver\n",
    "from selenium.webdriver.common.by import By\n",
    "from webdriver_manager.chrome import ChromeDriverManager\n",
    "from datetime import datetime\n",
    "from pywhatkit import sendwhatmsg\n",
    "import csv\n",
    "\n",
    "\n",
    "def get_time() -> tuple:\n",
    "    \"\"\"\n",
    "    Funcao para pegar a hora\n",
    "    do local em que voce esta\n",
    "    :return:\n",
    "    \"\"\"\n",
    "    currentDateAndTime = datetime.now()\n",
    "\n",
    "    currentTime_hours = currentDateAndTime.strftime(\"%H\")\n",
    "    currentTime_minutes = currentDateAndTime.strftime(\"%M\")\n",
    "\n",
    "    return currentTime_hours, currentTime_minutes\n",
    "\n",
    "def navegador(start_url:str) -> any:\n",
    "    \"\"\"\n",
    "    Funcao para iniciar o navegador chrome\n",
    "    :param start_url:\n",
    "    :return:\n",
    "    \"\"\"\n",
    "    #-- OPTIONS TO START BROWSER\n",
    "    options = webdriver.ChromeOptions()\n",
    "    options.add_argument('--headless')\n",
    "    options.add_argument('--ignore-certificate-errors')\n",
    "\n",
    "    #-- START BROWSER\n",
    "    print('Abrindo o navegador...')\n",
    "    driver = webdriver.Chrome(ChromeDriverManager().install(), options=options)\n",
    "    driver.get(start_url)\n",
    "\n",
    "    return driver\n",
    "\n",
    "def wpp(celular:str, msg:str) -> None:\n",
    "    \"\"\"\n",
    "    Funcao para enviar msg no wpp,\n",
    "    Quando for colocar o numero precisa do codigo\n",
    "    do pais +55\n",
    "    :param celular, msg:\n",
    "    :return:\n",
    "    \"\"\"\n",
    "    print('Em alguns segundos WhatsApp vai abrir e em 15 segundos enviar sua msg!')\n",
    "    hora, minuto = get_time()\n",
    "    sendwhatmsg(celular, msg, int(hora), int(minuto)+2, tab_close=True)\n",
    "\n",
    "    return\n",
    "\n",
    "def create_log() -> None:\n",
    "    \"\"\"\n",
    "    Funcao para criar arquivo de logs\n",
    "    :return:\n",
    "    \"\"\"\n",
    "    with open('/logs.csv', 'w') as f:\n",
    "        writer = csv.DictWriter(f, fieldnames = [\"modelo\", \"versao\", \"data_leilao\",\\\n",
    "                                                      \"hora_leilao\", \"preco_inicial\", \"ano_carro\",\\\n",
    "                                                      \"lance_atual\", \"link\"])\n",
    "        writer.writeheader()\n",
    "        f.close()\n",
    "\n",
    "    return\n",
    "\n",
    "\n",
    "def log(nome_carro:str,\n",
    "        modelo:str,\n",
    "        data_leilao:str,\n",
    "        hora_leilao:str,\n",
    "        preco_inicial:str,\n",
    "        ano_carro:str,\n",
    "        lance_atual:str,\n",
    "        link:str) -> None:\n",
    "    \"\"\"\n",
    "    Funcao para adicionar arquivo de logs,\n",
    "    para nao repetir carros ja enviados\n",
    "    :param nome_carro, modelo, data_leilao, hora_leilao, preco_inicial, ano_carro, lance_atual, link:\n",
    "    :return:\n",
    "    \"\"\"\n",
    "    with open('/logs.csv', 'a') as f:\n",
    "        writer = csv.writer(f)\n",
    "        writer.writerow([nome_carro, modelo, data_leilao, hora_leilao, preco_inicial, ano_carro, lance_atual, link])\n",
    "        f.close()\n",
    "\n",
    "    return\n",
    "\n",
    "\n",
    "def scrapper(modelo_carro:str):\n",
    "    \"\"\"\n",
    "    Scrapper para comecar a verificar os sites,\n",
    "    Use o modelo do carro em letras maiusculas\n",
    "    :param modelo_carro:\n",
    "    :return:\n",
    "    \"\"\"\n",
    "    create_log()\n",
    "    for pag in range(20):\n",
    "\n",
    "        driver = navegador('https://www.freitasleiloeiro.com.br/leiloes/pesquisar?pg=1&categoria=1')\n",
    "\n",
    "        # Procura as descricoes dos carros\n",
    "        carros = driver.find_elements(By.CLASS_NAME, 'cursor-pointer ')\n",
    "\n",
    "        # Patterns para o regex search\n",
    "        nome_carro = r'ONIX'\n",
    "        pattern_model = r'(?=ONIX).+?(?<=,)'\n",
    "        pattern_link_model = r\"(?=').+(?<=')\"\n",
    "        pattern_data = r\"[0-9]{2}\\/[0-9]{2}\\/[0-9]{4}\"\n",
    "        pattern_hora_leilao = r'[0-9]{2}:[0-9]{2}'\n",
    "        patterno_preco_inicial = r'(?<=R\\$ ).+'\n",
    "        pattern_ano_carro = r\"(?<=,).+?(?<=,)\"\n",
    "        aspas = r\"'\"\n",
    "        vazio = \"\"\n",
    "\n",
    "\n",
    "        for i in carros:\n",
    "            if search(nome_carro, i.text):\n",
    "                # Separa as info do carro que foi encontrado\n",
    "                link = search(pattern_link_model, i.get_attribute(\"onclick\")).group(0)\n",
    "                link_carro = f\"https://www.freitasleiloeiro.com.br{link.replace(aspas, vazio)}\"\n",
    "                modelo = search(pattern_model, i.text).group(0)\n",
    "                data_leilao = search(pattern_data, i.text).group(0)\n",
    "                hora_leilao = search(pattern_hora_leilao, i.text).group(0)\n",
    "                preco_inicial = search(patterno_preco_inicial, i.text).group(0)\n",
    "                ano_carro = search(pattern_ano_carro, i.text).group(0)\n",
    "\n",
    "                # Entra no link do carro que achou e pega o lance atual\n",
    "                driver.get(link_carro)\n",
    "                lance_atual = driver.find_element(By.ID, 'lance-atual').text\n",
    "                driver.close()\n",
    "\n",
    "                # Insere o log do carro que achou\n",
    "                log(nome_carro, modelo, data_leilao, hora_leilao, preco_inicial, ano_carro,lance_atual, link)\n",
    "\n",
    "                # Envia mensagem no Wpp com os dados do carro e link\n",
    "                mensagem = f\"Oportunidade!\\n{modelo} {ano_carro}\\nPreco inicial: {preco_inicial}\\n{lance_atual}\\nLeilao no dia: {data_leilao} as {hora_leilao}\\nConfira o carro no link: {link_carro}\"\n",
    "\n",
    "                wpp(\"+5514996601344\", mensagem)\n",
    "\n",
    "    return"
   ]
  },
  {
   "cell_type": "code",
   "execution_count": 40,
   "outputs": [
    {
     "name": "stdout",
     "output_type": "stream",
     "text": [
      "Abrindo o navegador...\n"
     ]
    },
    {
     "name": "stderr",
     "output_type": "stream",
     "text": [
      "C:\\Users\\flow igoulart\\AppData\\Local\\Temp\\ipykernel_9268\\3871398392.py:36: DeprecationWarning: executable_path has been deprecated, please pass in a Service object\n",
      "  driver = webdriver.Chrome(ChromeDriverManager().install(), options=options)\n"
     ]
    },
    {
     "name": "stdout",
     "output_type": "stream",
     "text": [
      "Em alguns segundos WhatsApp vai abrir e em 15 segundos enviar sua msg!\n",
      "In 104 Seconds WhatsApp will open and after 15 Seconds Message will be Delivered!\n"
     ]
    }
   ],
   "source": [
    "\n",
    "driver = navegador('https://www.freitasleiloeiro.com.br/leiloes/pesquisar?pg=1&categoria=1')\n",
    "\n",
    "carros = driver.find_elements(By.CLASS_NAME, 'cursor-pointer ')\n",
    "\n",
    "nome_carro = r'ONIX'\n",
    "pattern_model = r'(?=ONIX).+?(?<=,)'\n",
    "pattern_link_model = r\"(?=').+(?<=')\"\n",
    "pattern_data = r\"[0-9]{2}\\/[0-9]{2}\\/[0-9]{4}\"\n",
    "pattern_hora_leilao = r'[0-9]{2}:[0-9]{2}'\n",
    "patterno_preco_inicial = r'(?<=R\\$ ).+'\n",
    "pattern_ano_carro = r\"(?<=,).+?(?<=,)\"\n",
    "aspas = r\"'\"\n",
    "vazio = \"\"\n",
    "\n",
    "\n",
    "for i in carros:\n",
    "    if search(nome_carro, i.text):\n",
    "        link = search(pattern_link_model, i.get_attribute(\"onclick\")).group(0)\n",
    "        link_carro = f\"https://www.freitasleiloeiro.com.br{link.replace(aspas, vazio)}\"\n",
    "        modelo = search(pattern_model, i.text).group(0)\n",
    "        data_leilao = search(pattern_data, i.text).group(0)\n",
    "        hora_leilao = search(pattern_hora_leilao, i.text).group(0)\n",
    "        preco_inicial = search(patterno_preco_inicial, i.text).group(0)\n",
    "        ano_carro = search(pattern_ano_carro, i.text).group(0)\n",
    "\n",
    "        driver.get(link_carro)\n",
    "        lance_atual = driver.find_element(By.ID, 'lance-atual').text\n",
    "        driver.close()\n",
    "\n",
    "        # with open('/', 'a')\n",
    "\n",
    "        mensagem = f\"Oportunidade!\\n{modelo} {ano_carro}\\nPreco inicial: {preco_inicial}\\n{lance_atual}\\nLeilao no dia: {data_leilao} as {hora_leilao}\\nConfira o carro no link: {link_carro}\"\n",
    "\n",
    "        wpp(\"+55\", mensagem)\n",
    "\n",
    "        break"
   ],
   "metadata": {
    "collapsed": false
   }
  },
  {
   "cell_type": "code",
   "execution_count": 41,
   "outputs": [
    {
     "data": {
      "text/plain": "'7'"
     },
     "execution_count": 41,
     "metadata": {},
     "output_type": "execute_result"
    }
   ],
   "source": [],
   "metadata": {
    "collapsed": false
   }
  }
 ],
 "metadata": {
  "kernelspec": {
   "display_name": "Python 3",
   "language": "python",
   "name": "python3"
  },
  "language_info": {
   "codemirror_mode": {
    "name": "ipython",
    "version": 2
   },
   "file_extension": ".py",
   "mimetype": "text/x-python",
   "name": "python",
   "nbconvert_exporter": "python",
   "pygments_lexer": "ipython2",
   "version": "2.7.6"
  }
 },
 "nbformat": 4,
 "nbformat_minor": 0
}
